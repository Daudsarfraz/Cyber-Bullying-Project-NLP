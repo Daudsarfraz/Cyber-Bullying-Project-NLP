{
 "cells": [
  {
   "cell_type": "code",
   "execution_count": 75,
   "id": "a9edf299-687d-4ee7-97a3-4ee909b3d4b0",
   "metadata": {},
   "outputs": [
    {
     "name": "stdout",
     "output_type": "stream",
     "text": [
      "'Cyber Bulling.ipynb'   dataset.csv\n"
     ]
    }
   ],
   "source": [
    "ls # just to see files in current directory"
   ]
  },
  {
   "cell_type": "code",
   "execution_count": 1,
   "id": "8be0821c-d351-4e03-817c-b05f690369fc",
   "metadata": {},
   "outputs": [],
   "source": [
    "import numpy as np\n",
    "import math\n",
    "import pandas as pd\n",
    "\n",
    "# Plotting libraries\n",
    "import matplotlib.pyplot as plt\n",
    "plt.style.use(\"ggplot\")\n",
    "import seaborn as sb\n",
    "\n",
    "# Natural Language Toolkit library for text processing\n",
    "import nltk\n",
    "from nltk import sent_tokenize, word_tokenize\n",
    "import re\n",
    "\n",
    "# Importing Sklearn \n",
    "from sklearn.feature_extraction.text import TfidfVectorizer, TfidfVectorizer, CountVectorizer\n",
    "from sklearn.metrics import f1_score, accuracy_score, recall_score, precision_score, make_scorer\n",
    "\n",
    "from time import time\n",
    "import pickle # Library to save models"
   ]
  },
  {
   "cell_type": "code",
   "execution_count": 2,
   "id": "fb5c076d-4055-442d-91bc-2c33cb8eaec1",
   "metadata": {},
   "outputs": [],
   "source": [
    "df = pd.read_csv(\"dataset.csv\")"
   ]
  },
  {
   "cell_type": "code",
   "execution_count": 3,
   "id": "011ecba1-e757-4470-88bb-bbd8c8626190",
   "metadata": {
    "editable": true,
    "slideshow": {
     "slide_type": ""
    },
    "tags": []
   },
   "outputs": [
    {
     "data": {
      "text/html": [
       "<div>\n",
       "<style scoped>\n",
       "    .dataframe tbody tr th:only-of-type {\n",
       "        vertical-align: middle;\n",
       "    }\n",
       "\n",
       "    .dataframe tbody tr th {\n",
       "        vertical-align: top;\n",
       "    }\n",
       "\n",
       "    .dataframe thead th {\n",
       "        text-align: right;\n",
       "    }\n",
       "</style>\n",
       "<table border=\"1\" class=\"dataframe\">\n",
       "  <thead>\n",
       "    <tr style=\"text-align: right;\">\n",
       "      <th></th>\n",
       "      <th>headline</th>\n",
       "      <th>label</th>\n",
       "    </tr>\n",
       "  </thead>\n",
       "  <tbody>\n",
       "    <tr>\n",
       "      <th>17002</th>\n",
       "      <td>Meri sab grp pe gand marta hai😂</td>\n",
       "      <td>-1</td>\n",
       "    </tr>\n",
       "    <tr>\n",
       "      <th>897</th>\n",
       "      <td>whosoever has mentioned yadavs as shudras is p...</td>\n",
       "      <td>-1</td>\n",
       "    </tr>\n",
       "    <tr>\n",
       "      <th>3482</th>\n",
       "      <td>year old editor who probably sh ts his pants  ...</td>\n",
       "      <td>-1</td>\n",
       "    </tr>\n",
       "  </tbody>\n",
       "</table>\n",
       "</div>"
      ],
      "text/plain": [
       "                                                headline  label\n",
       "17002                    Meri sab grp pe gand marta hai😂     -1\n",
       "897    whosoever has mentioned yadavs as shudras is p...     -1\n",
       "3482   year old editor who probably sh ts his pants  ...     -1"
      ]
     },
     "execution_count": 3,
     "metadata": {},
     "output_type": "execute_result"
    }
   ],
   "source": [
    "df.sample(3) # just printing 3 random sample from dataset"
   ]
  },
  {
   "cell_type": "code",
   "execution_count": 4,
   "id": "b7bd4405-745a-4d89-9a63-baa38948096a",
   "metadata": {},
   "outputs": [
    {
     "data": {
      "text/plain": [
       "array([-1,  0])"
      ]
     },
     "execution_count": 4,
     "metadata": {},
     "output_type": "execute_result"
    }
   ],
   "source": [
    "df.label.unique() # checking classes in dataset"
   ]
  },
  {
   "cell_type": "code",
   "execution_count": 5,
   "id": "211bb232-3d10-4ecf-9ba4-1e32f833bfdc",
   "metadata": {},
   "outputs": [],
   "source": [
    "# As this -1 and 0 so change the -1 to 1 and make it 0 and 1\n",
    "\n",
    "def change_lable_name(file):\n",
    "    df = pd.read_csv(file)\n",
    "\n",
    "    for row in df.index:\n",
    "        if df.loc[row , \"label\"] == -1:\n",
    "            df.loc[row, \"label\"] = 1\n",
    "\n",
    "    return df\n",
    "    "
   ]
  },
  {
   "cell_type": "code",
   "execution_count": 6,
   "id": "45bbf3e3-de42-479b-8277-b92e383e928f",
   "metadata": {},
   "outputs": [],
   "source": [
    "file = \"dataset.csv\"\n",
    "df = change_lable_name(file) # call it now labels have changed and are [0, 1]"
   ]
  },
  {
   "cell_type": "code",
   "execution_count": 7,
   "id": "96d32bc2-80ef-4177-a7be-4a7a27beef80",
   "metadata": {},
   "outputs": [
    {
     "data": {
      "text/html": [
       "<div>\n",
       "<style scoped>\n",
       "    .dataframe tbody tr th:only-of-type {\n",
       "        vertical-align: middle;\n",
       "    }\n",
       "\n",
       "    .dataframe tbody tr th {\n",
       "        vertical-align: top;\n",
       "    }\n",
       "\n",
       "    .dataframe thead th {\n",
       "        text-align: right;\n",
       "    }\n",
       "</style>\n",
       "<table border=\"1\" class=\"dataframe\">\n",
       "  <thead>\n",
       "    <tr style=\"text-align: right;\">\n",
       "      <th></th>\n",
       "      <th>headline</th>\n",
       "      <th>label</th>\n",
       "    </tr>\n",
       "  </thead>\n",
       "  <tbody>\n",
       "    <tr>\n",
       "      <th>9179</th>\n",
       "      <td>afd please see wikipedia articles for deletion...</td>\n",
       "      <td>0</td>\n",
       "    </tr>\n",
       "    <tr>\n",
       "      <th>7120</th>\n",
       "      <td>bitch nobody cares about your myspace you ugly...</td>\n",
       "      <td>1</td>\n",
       "    </tr>\n",
       "    <tr>\n",
       "      <th>5379</th>\n",
       "      <td>all above text is used as proof  do you want m...</td>\n",
       "      <td>1</td>\n",
       "    </tr>\n",
       "    <tr>\n",
       "      <th>2037</th>\n",
       "      <td>nazi you can delete my talk page  but i do it ...</td>\n",
       "      <td>1</td>\n",
       "    </tr>\n",
       "    <tr>\n",
       "      <th>4728</th>\n",
       "      <td>blow me  you can fuck off  warn all you want d...</td>\n",
       "      <td>1</td>\n",
       "    </tr>\n",
       "  </tbody>\n",
       "</table>\n",
       "</div>"
      ],
      "text/plain": [
       "                                               headline  label\n",
       "9179  afd please see wikipedia articles for deletion...      0\n",
       "7120  bitch nobody cares about your myspace you ugly...      1\n",
       "5379  all above text is used as proof  do you want m...      1\n",
       "2037  nazi you can delete my talk page  but i do it ...      1\n",
       "4728  blow me  you can fuck off  warn all you want d...      1"
      ]
     },
     "execution_count": 7,
     "metadata": {},
     "output_type": "execute_result"
    }
   ],
   "source": [
    "df.sample(5)"
   ]
  },
  {
   "cell_type": "code",
   "execution_count": 8,
   "id": "2ce5a5ba-81b3-44d2-990c-53189ec517e4",
   "metadata": {},
   "outputs": [
    {
     "name": "stdout",
     "output_type": "stream",
     "text": [
      "No. of row are -> 18148\n",
      "No. of columns are -> 2\n"
     ]
    }
   ],
   "source": [
    "# Data Shape\n",
    "row, columns = df.shape\n",
    "print(\"No. of row are ->\",row)\n",
    "print(\"No. of columns are ->\",columns)"
   ]
  },
  {
   "cell_type": "code",
   "execution_count": 9,
   "id": "afb25ba9-c659-408d-a965-88cf6479a3d1",
   "metadata": {},
   "outputs": [],
   "source": [
    "# Data Distribution\n",
    "\n",
    "def check_data_distribution(df):\n",
    "\n",
    "    total_row = df.shape[0] # it will return \n",
    "    print(\"Total =\", total_row)\n",
    "    \n",
    "    one_labled = df[df.label == 1].shape[0]\n",
    "    print(\"One labeled values =\", one_labled)\n",
    "\n",
    "    zero_label = total_row - one_labled\n",
    "    print(\"Zero labeled values =\", zero_label, 5*\"\\n\")\n",
    "\n",
    "    sclices = [one_labled, zero_label]\n",
    "    labels = [\"Toxic\", \"NOT-Toxic\"]\n",
    "\n",
    "    explode = [0.1, 0]\n",
    "\n",
    "    plt.pie(sclices,explode = explode, wedgeprops={\"edgecolor\":\"black\"}, labels = labels, shadow=True)\n",
    "    plt.title(\"Toxic vs Non-Toxic comments in Dataset\")\n",
    "    plt.tight_layout()\n",
    "   # plt.show()\n",
    "    plt.savefig(\"Toxic vs Non-Toxic\")"
   ]
  },
  {
   "cell_type": "code",
   "execution_count": 10,
   "id": "b06a8764-608f-4008-9edb-cd8df92ed9a4",
   "metadata": {},
   "outputs": [
    {
     "name": "stdout",
     "output_type": "stream",
     "text": [
      "Total = 18148\n",
      "One labeled values = 11661\n",
      "Zero labeled values = 6487 \n",
      "\n",
      "\n",
      "\n",
      "\n",
      "\n"
     ]
    },
    {
     "data": {
      "image/png": "[encoded data removed]",
      "text/plain": [
       "<Figure size 640x480 with 1 Axes>"
      ]
     },
     "metadata": {},
     "output_type": "display_data"
    }
   ],
   "source": [
    "check_data_distribution(df)"
   ]
  },
  {
   "cell_type": "code",
   "execution_count": 11,
   "id": "033d1588-82d5-41c6-a689-048fe68b931a",
   "metadata": {},
   "outputs": [
    {
     "name": "stdout",
     "output_type": "stream",
     "text": [
      "<class 'pandas.core.frame.DataFrame'>\n",
      "RangeIndex: 18148 entries, 0 to 18147\n",
      "Data columns (total 2 columns):\n",
      " #   Column    Non-Null Count  Dtype \n",
      "---  ------    --------------  ----- \n",
      " 0   headline  18148 non-null  object\n",
      " 1   label     18148 non-null  int64 \n",
      "dtypes: int64(1), object(1)\n",
      "memory usage: 283.7+ KB\n"
     ]
    }
   ],
   "source": [
    "df.info()"
   ]
  },
  {
   "cell_type": "code",
   "execution_count": 19,
   "id": "a845406b-1ff7-4181-8fd3-fcec2c8dabbe",
   "metadata": {},
   "outputs": [],
   "source": [
    "# Remove Noise from Dataset\n",
    "\n",
    "def remove_noise(input_sen, pattern):\n",
    "    if (type(input_sen)==str):\n",
    "        matched = re.findall(pattern, input_sen) # will return list\n",
    "        print(matched)\n",
    "        \n",
    "        for i in matched: # now iterate on list of \n",
    "            input_sen = re.sub(i, \"\", input_sen)\n",
    "            return input_sen\n",
    "    else:\n",
    "        return \"\""
   ]
  },
  {
   "cell_type": "code",
   "execution_count": null,
   "id": "b6fd972e-a16b-464b-8357-533c940c61b3",
   "metadata": {},
   "outputs": [],
   "source": []
  },
  {
   "cell_type": "code",
   "execution_count": null,
   "id": "f3423d2a-926b-403a-8889-80a33983b701",
   "metadata": {},
   "outputs": [],
   "source": []
  },
  {
   "cell_type": "code",
   "execution_count": null,
   "id": "9c2451ac-cf11-4d1f-ad46-f0af2e72f03e",
   "metadata": {},
   "outputs": [],
   "source": []
  }
 ],
 "metadata": {
  "kernelspec": {
   "display_name": "Python 3 (ipykernel)",
   "language": "python",
   "name": "python3"
  },
  "language_info": {
   "codemirror_mode": {
    "name": "ipython",
    "version": 3
   },
   "file_extension": ".py",
   "mimetype": "text/x-python",
   "name": "python",
   "nbconvert_exporter": "python",
   "pygments_lexer": "ipython3",
   "version": "3.12.7"
  }
 },
 "nbformat": 4,
 "nbformat_minor": 5
}
